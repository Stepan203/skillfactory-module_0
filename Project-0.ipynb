{
 "metadata": {
  "language_info": {
   "codemirror_mode": {
    "name": "ipython",
    "version": 3
   },
   "file_extension": ".py",
   "mimetype": "text/x-python",
   "name": "python",
   "nbconvert_exporter": "python",
   "pygments_lexer": "ipython3",
   "version": "3.8.5"
  },
  "orig_nbformat": 2,
  "kernelspec": {
   "name": "python385jvsc74a57bd0b3ba2566441a7c06988d0923437866b63cedc61552a5af99d1f4fb67d367b25f",
   "display_name": "Python 3.8.5 64-bit ('base': conda)"
  },
  "metadata": {
   "interpreter": {
    "hash": "10f61bd8e1c8ddfb738e8c0d54faf1911baa5103b162c9ebf575e3fb9043a2f2"
   }
  }
 },
 "nbformat": 4,
 "nbformat_minor": 2,
 "cells": [
  {
   "cell_type": "code",
   "execution_count": 85,
   "metadata": {},
   "outputs": [],
   "source": [
    "import random as rd\n",
    "\n",
    "lower_limit = 1 ## Задаем нижнюю границу загадываемого числа\n",
    "upper_limit = 100 ## Задаем верхнюю границу загадываемого числа\n",
    "low = lower_limit\n",
    "up = upper_limit\n",
    "number = rd.randint(lower_limit, upper_limit + 1) ## Загадываем число из диапазона \n",
    "def game_core_v3(low, up, predict):\n",
    "    count = 0\n",
    "    while number != predict: ## Задаем цикл, в котором меняем нижнюю или верхнюю границу диапазона в зависимости от того больше загаданное число предсказанного или меньше, одновременно крутим счетчик попыток угадать число \n",
    "        count += 1\n",
    "        if number > predict:\n",
    "            low = predict \n",
    "        elif number < predict:\n",
    "            up = predict\n",
    "        predict = (low + up) // 2  ## Находим сумму верхней и нижней границы и делим пополам, уменьшая поиск в 2 раза    \n",
    "    return (f\"Вы угадали число {number} за {count} попыток.\")"
   ]
  },
  {
   "cell_type": "code",
   "execution_count": 86,
   "metadata": {},
   "outputs": [
    {
     "output_type": "execute_result",
     "data": {
      "text/plain": [
       "'Вы угадали число 59 за 7 попыток.'"
      ]
     },
     "metadata": {},
     "execution_count": 86
    }
   ],
   "source": [
    "game_core_v3(1, 100, 2)"
   ]
  }
 ]
}